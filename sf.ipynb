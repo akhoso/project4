{
 "cells": [
  {
   "cell_type": "code",
   "execution_count": null,
   "metadata": {},
   "outputs": [],
   "source": [
    "import pandas as pd\n",
    "import numpy as np"
   ]
  },
  {
   "cell_type": "code",
   "execution_count": null,
   "metadata": {},
   "outputs": [],
   "source": [
    "from sklearn.preprocessing import KBinsDiscretizer, RobustScaler, MinMaxScaler, OrdinalEncoder,LabelEncoder\n",
    "from sklearn.linear_model import LogisticRegression\n",
    "from sklearn.pipeline import make_pipeline\n",
    "from sklearn.model_selection import cross_val_score\n",
    "from sklearn.impute import SimpleImputer\n",
    "from sklearn.preprocessing import PolynomialFeatures\n",
    "from mlxtend.feature_extraction import PrincipalComponentAnalysis\n",
    "from category_encoders import WOEEncoder, TargetEncoder\n",
    "import matplotlib.pyplot as plt\n",
    "import seaborn as sns\n",
    "\n",
    "import gc; gc.enable()"
   ]
  },
  {
   "cell_type": "code",
   "execution_count": null,
   "metadata": {},
   "outputs": [],
   "source": [
    "dfo=pd.read_csv('exercise_05_train.csv')\n",
    "pd.set_option('display.max_columns', 110)\n",
    "df=dfo.copy()\n",
    "df.head()"
   ]
  },
  {
   "cell_type": "code",
   "execution_count": null,
   "metadata": {},
   "outputs": [],
   "source": [
    "numcols = df.select_dtypes(include=['float64', 'int64'])\n",
    "objcols = df.select_dtypes(include=['object'])"
   ]
  },
  {
   "cell_type": "code",
   "execution_count": 1,
   "metadata": {},
   "outputs": [
    {
     "ename": "NameError",
     "evalue": "name 'numcols' is not defined",
     "output_type": "error",
     "traceback": [
      "\u001b[0;31m---------------------------------------------------------------------------\u001b[0m",
      "\u001b[0;31mNameError\u001b[0m                                 Traceback (most recent call last)",
      "\u001b[0;32m<ipython-input-1-d13cca237ba5>\u001b[0m in \u001b[0;36m<module>\u001b[0;34m\u001b[0m\n\u001b[0;32m----> 1\u001b[0;31m \u001b[0mprint\u001b[0m\u001b[0;34m(\u001b[0m\u001b[0mlen\u001b[0m\u001b[0;34m(\u001b[0m\u001b[0mnumcols\u001b[0m\u001b[0;34m)\u001b[0m\u001b[0;34m)\u001b[0m\u001b[0;34m\u001b[0m\u001b[0;34m\u001b[0m\u001b[0m\n\u001b[0m\u001b[1;32m      2\u001b[0m \u001b[0mprint\u001b[0m\u001b[0;34m(\u001b[0m\u001b[0mlen\u001b[0m\u001b[0;34m(\u001b[0m\u001b[0mobjcols\u001b[0m\u001b[0;34m)\u001b[0m\u001b[0;34m)\u001b[0m\u001b[0;34m\u001b[0m\u001b[0;34m\u001b[0m\u001b[0m\n",
      "\u001b[0;31mNameError\u001b[0m: name 'numcols' is not defined"
     ]
    }
   ],
   "source": [
    "print(len(numcols))\n",
    "print(len(objcols))"
   ]
  },
  {
   "cell_type": "code",
   "execution_count": null,
   "metadata": {},
   "outputs": [],
   "source": [
    "df.dtypes.value_counts()"
   ]
  },
  {
   "cell_type": "code",
   "execution_count": 2,
   "metadata": {},
   "outputs": [
    {
     "ename": "NameError",
     "evalue": "name 'df' is not defined",
     "output_type": "error",
     "traceback": [
      "\u001b[0;31m---------------------------------------------------------------------------\u001b[0m",
      "\u001b[0;31mNameError\u001b[0m                                 Traceback (most recent call last)",
      "\u001b[0;32m<ipython-input-2-70dd9df6e42e>\u001b[0m in \u001b[0;36m<module>\u001b[0;34m\u001b[0m\n\u001b[0;32m----> 1\u001b[0;31m \u001b[0mprint\u001b[0m\u001b[0;34m(\u001b[0m\u001b[0mdf\u001b[0m\u001b[0;34m.\u001b[0m\u001b[0my\u001b[0m\u001b[0;34m.\u001b[0m\u001b[0munique\u001b[0m\u001b[0;34m(\u001b[0m\u001b[0;34m)\u001b[0m\u001b[0;34m)\u001b[0m\u001b[0;34m\u001b[0m\u001b[0;34m\u001b[0m\u001b[0m\n\u001b[0m\u001b[1;32m      2\u001b[0m \u001b[0mprint\u001b[0m\u001b[0;34m(\u001b[0m\u001b[0mdf\u001b[0m\u001b[0;34m.\u001b[0m\u001b[0my\u001b[0m\u001b[0;34m.\u001b[0m\u001b[0mvalue_counts\u001b[0m\u001b[0;34m(\u001b[0m\u001b[0mnormalize\u001b[0m\u001b[0;34m=\u001b[0m\u001b[0;32mTrue\u001b[0m\u001b[0;34m)\u001b[0m \u001b[0;34m*\u001b[0m \u001b[0;36m100\u001b[0m\u001b[0;34m)\u001b[0m\u001b[0;34m\u001b[0m\u001b[0;34m\u001b[0m\u001b[0m\n",
      "\u001b[0;31mNameError\u001b[0m: name 'df' is not defined"
     ]
    }
   ],
   "source": [
    "print(df.y.value_counts(normalize=True) * 100)"
   ]
  },
  {
   "cell_type": "markdown",
   "metadata": {},
   "source": [
    "## How wide-ranging are the categorical columns"
   ]
  },
  {
   "cell_type": "code",
   "execution_count": null,
   "metadata": {},
   "outputs": [],
   "source": [
    "print('\\n Feature x34 has:',df['x34'].nunique(),'unique values')\n",
    "print('\\n Feature x35 has:',df['x35'].nunique(),'unique values')\n",
    "print('\\n Feature x45 has:',df['x45'].nunique(),'unique values')\n",
    "print('\\n Feature x68 has:',df['x68'].nunique(),'unique values')\n",
    "print('\\n Feature x93 has:',df['x93'].nunique(),'unique values')\n",
    "print('\\n Feature x41 has:',df['x41'].nunique(),'unique values')\n",
    "print('\\n Feature TARGET Y has:',df['y'].nunique(),'unique values')"
   ]
  },
  {
   "cell_type": "code",
   "execution_count": null,
   "metadata": {},
   "outputs": [],
   "source": [
    "print('\\nx34 \\n',df['x34'].value_counts())\n",
    "print('\\nx35 \\n',df['x35'].value_counts())\n",
    "print('\\nx45 \\n',df['x45'].value_counts())\n",
    "print('\\nx68 \\n',df['x68'].value_counts())\n",
    "print('\\nx93 \\n',df['x93'].value_counts())\n",
    "print('\\nx41 \\n',df['x41'].value_counts())\n",
    "print('\\nTARGET \\n',df['y'].value_counts())"
   ]
  },
  {
   "cell_type": "code",
   "execution_count": null,
   "metadata": {},
   "outputs": [],
   "source": [
    "df.x34 = df.x34.str.lower()\n",
    "\n",
    "df.x35 = df.x35.replace(['thur','thurday'],'thursday')\n",
    "df.x35 = df.x35.replace('fri','friday')\n",
    "df.x35 = df.x35.replace('wed','wednesday')\n",
    "\n",
    "df.x68 = df.x68.str.lower()\n",
    "df.x68 = df.x68.str.rstrip('.')\n",
    "\n",
    "df.x41 = df.x41.str.strip('$')\n",
    "df.x41 = df.x41.astype(float)\n",
    "df.x41.dtype\n",
    "\n",
    "df.x45 = df.x45.str.rstrip('%')\n",
    "df.x45 = df.x45.astype(float)"
   ]
  },
  {
   "cell_type": "code",
   "execution_count": null,
   "metadata": {},
   "outputs": [],
   "source": [
    "print(df['x41'].min())\n",
    "print(df['x41'].max())"
   ]
  },
  {
   "cell_type": "code",
   "execution_count": null,
   "metadata": {},
   "outputs": [],
   "source": [
    "# x41: the $ column ranges from -4496.46 to 4327.53\n",
    "# what does this mean? \n",
    "# is this $ balance due? \n",
    "# is this insurance loss?"
   ]
  },
  {
   "cell_type": "code",
   "execution_count": null,
   "metadata": {},
   "outputs": [],
   "source": [
    "objcols= [c for c in df.columns.tolist() if c in df.select_dtypes(include=['object'])]\n",
    "objcols"
   ]
  },
  {
   "cell_type": "code",
   "execution_count": null,
   "metadata": {},
   "outputs": [],
   "source": [
    "df[objcols].describe()"
   ]
  },
  {
   "cell_type": "code",
   "execution_count": null,
   "metadata": {},
   "outputs": [],
   "source": [
    "# show value counts for each column in object type columns in desc order\n",
    "frames = []\n",
    "for c in objcols:\n",
    "    if c != 'x41':\n",
    "        frame = df[c].value_counts().to_frame().sort_values(by=c, ascending=False)\n",
    "        frames.append(frame)\n",
    "    \n",
    "frames[0].T\n",
    "frames[1].T"
   ]
  },
  {
   "cell_type": "code",
   "execution_count": null,
   "metadata": {
    "jupyter": {
     "source_hidden": true
    }
   },
   "outputs": [],
   "source": [
    "frames = []\n",
    "for c in objcols:\n",
    "    if c != 'x41':\n",
    "        frame = df[c].value_counts().to_frame().sort_values(by=c, ascending=False)\n",
    "        frames.append(frame)\n",
    "    \n",
    "print(frames[0].T,'\\n')\n",
    "print(frames[1].T,'\\n')\n",
    "print(frames[2].T,'\\n')\n",
    "print(frames[3].T,'\\n')\n",
    "print(frames[4].T,'\\n')"
   ]
  },
  {
   "cell_type": "markdown",
   "metadata": {
    "jupyter": {
     "source_hidden": true
    }
   },
   "source": [
    "## Q - how do i print frames 0-4 in a better way?\n",
    "## Q - it's 'nicer' to look at WITHOUT the print statement, how?"
   ]
  },
  {
   "cell_type": "code",
   "execution_count": null,
   "metadata": {},
   "outputs": [],
   "source": [
    "for frame in frames:\n",
    "    print(frame.head().T)"
   ]
  },
  {
   "cell_type": "code",
   "execution_count": null,
   "metadata": {},
   "outputs": [],
   "source": [
    "for frame in frames:\n",
    "    print(frame.tail().T)"
   ]
  },
  {
   "cell_type": "code",
   "execution_count": null,
   "metadata": {},
   "outputs": [],
   "source": [
    "target = 'y'\n",
    "feat_cols = [c for c in df.columns.tolist() if c not in [target]] # 100\n",
    "cnts_cols = [c for c in feat_cols if df[c].dtype == np.float] # 96 x41 and x45 stripped of $ and %, then converted to float"
   ]
  },
  {
   "cell_type": "code",
   "execution_count": null,
   "metadata": {},
   "outputs": [],
   "source": [
    "print(len(feat_cols))\n",
    "print(len(cnts_cols))"
   ]
  },
  {
   "cell_type": "code",
   "execution_count": null,
   "metadata": {},
   "outputs": [],
   "source": [
    "catcols = df.select_dtypes(include=['object']).copy()\n",
    "catcols.head()"
   ]
  },
  {
   "cell_type": "code",
   "execution_count": null,
   "metadata": {},
   "outputs": [],
   "source": [
    "gc.collect()"
   ]
  },
  {
   "cell_type": "markdown",
   "metadata": {},
   "source": [
    "## Baseline Model - Using Only FLOAT Features"
   ]
  },
  {
   "cell_type": "code",
   "execution_count": null,
   "metadata": {},
   "outputs": [],
   "source": [
    "X, y = df[cnts_cols].values, df[target].values\n",
    "\n",
    "imputer = SimpleImputer()\n",
    "binner = KBinsDiscretizer(n_bins=2, encode='onehot-dense')\n",
    "# poly = PolynomialFeatures(interaction_only=True, include_bias=False)\n",
    "lr = LogisticRegression(class_weight='balanced', n_jobs=-1, random_state=42)\n",
    "pipe = make_pipeline(imputer, binner, lr) # poly\n",
    "\n",
    "scores = cross_val_score(pipe, X, y, cv=5, scoring='roc_auc', n_jobs=-1)\n",
    "scores.mean(), scores.std()"
   ]
  },
  {
   "cell_type": "markdown",
   "metadata": {},
   "source": [
    "## Using ALL Features"
   ]
  },
  {
   "cell_type": "code",
   "execution_count": null,
   "metadata": {},
   "outputs": [],
   "source": [
    "X, y = df[feat_cols].values, df[target].values\n",
    "\n",
    "imputer = SimpleImputer(fill_value=None)\n",
    "binner = KBinsDiscretizer(n_bins=2, encode='onehot-dense')\n",
    "\n",
    "lr = LogisticRegression(class_weight='balanced', n_jobs=-1, random_state=42)\n",
    "pipe = make_pipeline(imputer, binner, lr) # poly\n",
    "\n",
    "scores = cross_val_score(pipe, X, y, cv=5, scoring='roc_auc', n_jobs=-1)\n",
    "scores.mean(), scores.std()"
   ]
  },
  {
   "cell_type": "markdown",
   "metadata": {
    "jupyter": {
     "source_hidden": true
    }
   },
   "source": [
    "## PANDAS Practice"
   ]
  },
  {
   "cell_type": "code",
   "execution_count": null,
   "metadata": {
    "jupyter": {
     "source_hidden": true
    }
   },
   "outputs": [],
   "source": [
    "# for col x34, give me the value in index row location 4\n",
    "df.x34.iloc[4]\n",
    "df.x34.iloc[[4]] # this syntax works but doesnt return DF, because we only want one field. but this result is different from above result. (includes index #)\n",
    "# for col x34, give me the values in index row locations 2-4\n",
    "df.x34.iloc[2:4]\n",
    "# df.x34.iloc[[2:4]] - this does not work"
   ]
  },
  {
   "cell_type": "code",
   "execution_count": null,
   "metadata": {
    "jupyter": {
     "source_hidden": true
    }
   },
   "outputs": [],
   "source": [
    "# for the whole dataset, pull index row 2\n",
    "df.iloc[2].head()\n",
    "# for the whole dataset, pull index row 2, display as dataframe\n",
    "df.iloc[[2]]\n",
    "# for the whole dataset, give me row location 2 and 4\n",
    "df.iloc[[2,4]]\n",
    "df.loc[[2,4]]"
   ]
  },
  {
   "cell_type": "markdown",
   "metadata": {
    "jupyter": {
     "source_hidden": true
    }
   },
   "source": [
    "## INVESTIGATE"
   ]
  },
  {
   "cell_type": "code",
   "execution_count": null,
   "metadata": {
    "jupyter": {
     "source_hidden": true
    }
   },
   "outputs": [],
   "source": [
    "df['x41'].max()\n",
    "# df['x41'].min()\n",
    "# this returns error: '>=' not supported between instances of 'str' and 'float'\n",
    "# probably because the column is object type but since we removed the $ and now have numbers, it should be float?? let's try converting it to float below"
   ]
  },
  {
   "cell_type": "code",
   "execution_count": null,
   "metadata": {
    "jupyter": {
     "source_hidden": true
    }
   },
   "outputs": [],
   "source": [
    "# feature x41 look like dollar amounts (continuous), investigating this column\n",
    "# df.max(axis=0)[x41]\n",
    "# df.max(axis=0)['x41']\n",
    "# df['x41'].max()\n",
    "# df['x41'].min()\n",
    "df.x41.dtype\n",
    "# min max isnt working because the values in column are not numeric, will drop the '$' sign then maybe convert column to float?"
   ]
  },
  {
   "cell_type": "code",
   "execution_count": null,
   "metadata": {
    "jupyter": {
     "source_hidden": true
    }
   },
   "outputs": [],
   "source": [
    "## Set all words to lowercase for all columns with text\n",
    "df.x34=df.x34.apply(lambda x: x.lower())\n",
    "## DID NOT WORK, not sure how to convert it to string first."
   ]
  },
  {
   "cell_type": "code",
   "execution_count": null,
   "metadata": {
    "jupyter": {
     "source_hidden": true
    }
   },
   "outputs": [],
   "source": [
    "# what fucking TYPE is x34?\n",
    "df.x34.dtype"
   ]
  },
  {
   "cell_type": "code",
   "execution_count": null,
   "metadata": {
    "jupyter": {
     "source_hidden": true
    }
   },
   "outputs": [],
   "source": [
    "df.dtypes\n",
    "## INVESTIGATE: this shows only floats, how do you check for df dtypes that != float64."
   ]
  },
  {
   "cell_type": "code",
   "execution_count": null,
   "metadata": {
    "jupyter": {
     "source_hidden": true
    }
   },
   "outputs": [],
   "source": [
    "df.x41.dtype\n",
    "# yes this shows me that x41 is dtype('O') but what if i want to see it specifically mentioned what O means?"
   ]
  },
  {
   "cell_type": "code",
   "execution_count": null,
   "metadata": {
    "jupyter": {
     "source_hidden": true
    }
   },
   "outputs": [],
   "source": [
    "df.select_dtypes(include!=['float64'])\n",
    "df.dtypes(include != ['float64'])\n",
    "# df.select_dtypes(include=['object'])"
   ]
  },
  {
   "cell_type": "code",
   "execution_count": null,
   "metadata": {
    "jupyter": {
     "source_hidden": true
    }
   },
   "outputs": [],
   "source": [
    "g= df.columns.to_series().groupby(df.dtypes).groups\n",
    "{k.name: v for k, v in g.items()}"
   ]
  },
  {
   "cell_type": "code",
   "execution_count": null,
   "metadata": {
    "jupyter": {
     "source_hidden": true
    }
   },
   "outputs": [],
   "source": [
    "# select * columns of a certain type, e.g. object, float, int, bool\n",
    "df.select_dtypes(include=['object'])"
   ]
  },
  {
   "cell_type": "markdown",
   "metadata": {
    "jupyter": {
     "source_hidden": true
    }
   },
   "source": [
    "## WHY ARE THESE NOT WORKING???"
   ]
  },
  {
   "cell_type": "code",
   "execution_count": null,
   "metadata": {
    "jupyter": {
     "source_hidden": true
    }
   },
   "outputs": [],
   "source": [
    "%timeit df.x41.str.apply(lambda x: x.replace('$',''))"
   ]
  },
  {
   "cell_type": "code",
   "execution_count": null,
   "metadata": {
    "jupyter": {
     "source_hidden": true
    }
   },
   "outputs": [],
   "source": [
    "%timeit df.x41.apply(lambda x: x.strip('$'))"
   ]
  },
  {
   "cell_type": "code",
   "execution_count": null,
   "metadata": {
    "jupyter": {
     "source_hidden": true
    }
   },
   "outputs": [],
   "source": [
    "%timeit [x.strip('$') for x in df.x41]"
   ]
  },
  {
   "cell_type": "markdown",
   "metadata": {
    "jupyter": {
     "source_hidden": true
    }
   },
   "source": [
    "## FAIL #1"
   ]
  },
  {
   "cell_type": "code",
   "execution_count": null,
   "metadata": {
    "jupyter": {
     "source_hidden": true
    }
   },
   "outputs": [],
   "source": [
    "# ran for 15+ minutes, showed 'busy'. might be a better idea to run on a smaller dataset like test instead of train. check if it works. aim is check value counts for all object columns but this was checking ALL.\n",
    "df.apply(pd.Series.value_counts)"
   ]
  },
  {
   "cell_type": "code",
   "execution_count": null,
   "metadata": {
    "jupyter": {
     "source_hidden": true
    }
   },
   "outputs": [],
   "source": [
    "# dfvc = pd.DataFrame(columns=df.columns)\n",
    "df[objcols].apply(pd.Series.value_counts)\n",
    "df[['x34', 'x35', 'x41', 'x45', 'x68', 'x93']].apply(pd.Series.value_counts)\n",
    "# both lines display same thing. this was not displaying anything intelligible so bryan created functions (blocks under)"
   ]
  }
 ],
 "metadata": {
  "kernelspec": {
   "display_name": "Python 3",
   "language": "python",
   "name": "python3"
  },
  "language_info": {
   "codemirror_mode": {
    "name": "ipython",
    "version": 3
   },
   "file_extension": ".py",
   "mimetype": "text/x-python",
   "name": "python",
   "nbconvert_exporter": "python",
   "pygments_lexer": "ipython3",
   "version": "3.7.4"
  }
 },
 "nbformat": 4,
 "nbformat_minor": 4
}
